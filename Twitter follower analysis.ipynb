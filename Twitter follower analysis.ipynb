{
 "cells": [
  {
   "cell_type": "markdown",
   "id": "45085f53-4730-4afe-b77b-a889d8b8c900",
   "metadata": {},
   "source": [
    "# Twitter follower analysis"
   ]
  },
  {
   "cell_type": "markdown",
   "id": "48fe4ac5-bc68-42bf-b349-dfe0cd95a9fb",
   "metadata": {},
   "source": [
    "Musk Twitter buyout date: \n",
    "April 25th.\n",
    "\n",
    "https://www.theverge.com/2022/4/25/23028323/elon-musk-twitter-offer-buyout-hostile-takeover-ownership"
   ]
  },
  {
   "cell_type": "code",
   "execution_count": 1,
   "id": "2d4d18f9-5c74-4d07-9c2b-b1540d5b07bb",
   "metadata": {},
   "outputs": [],
   "source": [
    "import pandas as pd"
   ]
  },
  {
   "cell_type": "code",
   "execution_count": 2,
   "id": "47fcf8fe-5bf2-44df-a730-267165c6cea3",
   "metadata": {},
   "outputs": [],
   "source": [
    "dfcon = pd.read_csv('data_share/conservative-follows.csv')\n",
    "dflib = pd.read_csv('data_share/liberal-follows.csv')"
   ]
  },
  {
   "cell_type": "code",
   "execution_count": 3,
   "id": "412f341b-dcaf-4e2f-bdc8-c95bdc7a3ecc",
   "metadata": {},
   "outputs": [
    {
     "data": {
      "text/html": [
       "<div>\n",
       "<style scoped>\n",
       "    .dataframe tbody tr th:only-of-type {\n",
       "        vertical-align: middle;\n",
       "    }\n",
       "\n",
       "    .dataframe tbody tr th {\n",
       "        vertical-align: top;\n",
       "    }\n",
       "\n",
       "    .dataframe thead th {\n",
       "        text-align: right;\n",
       "    }\n",
       "</style>\n",
       "<table border=\"1\" class=\"dataframe\">\n",
       "  <thead>\n",
       "    <tr style=\"text-align: right;\">\n",
       "      <th></th>\n",
       "      <th>username</th>\n",
       "      <th>display_name</th>\n",
       "      <th>date</th>\n",
       "      <th>followers</th>\n",
       "      <th>following</th>\n",
       "      <th>tweets</th>\n",
       "      <th>change</th>\n",
       "      <th>percent_change</th>\n",
       "    </tr>\n",
       "  </thead>\n",
       "  <tbody>\n",
       "    <tr>\n",
       "      <th>0</th>\n",
       "      <td>bennyjohnson</td>\n",
       "      <td>Benny Johnson</td>\n",
       "      <td>2022-03-29</td>\n",
       "      <td>511129</td>\n",
       "      <td>2007</td>\n",
       "      <td>61193</td>\n",
       "      <td>NaN</td>\n",
       "      <td>NaN</td>\n",
       "    </tr>\n",
       "    <tr>\n",
       "      <th>1</th>\n",
       "      <td>bennyjohnson</td>\n",
       "      <td>Benny Johnson</td>\n",
       "      <td>2022-03-30</td>\n",
       "      <td>512507</td>\n",
       "      <td>2009</td>\n",
       "      <td>61219</td>\n",
       "      <td>1378.0</td>\n",
       "      <td>0.002696</td>\n",
       "    </tr>\n",
       "    <tr>\n",
       "      <th>2</th>\n",
       "      <td>bennyjohnson</td>\n",
       "      <td>Benny Johnson</td>\n",
       "      <td>2022-03-31</td>\n",
       "      <td>513809</td>\n",
       "      <td>2010</td>\n",
       "      <td>61266</td>\n",
       "      <td>1302.0</td>\n",
       "      <td>0.002540</td>\n",
       "    </tr>\n",
       "    <tr>\n",
       "      <th>3</th>\n",
       "      <td>bennyjohnson</td>\n",
       "      <td>Benny Johnson</td>\n",
       "      <td>2022-04-01</td>\n",
       "      <td>514723</td>\n",
       "      <td>2010</td>\n",
       "      <td>61311</td>\n",
       "      <td>914.0</td>\n",
       "      <td>0.001779</td>\n",
       "    </tr>\n",
       "    <tr>\n",
       "      <th>4</th>\n",
       "      <td>bennyjohnson</td>\n",
       "      <td>Benny Johnson</td>\n",
       "      <td>2022-04-02</td>\n",
       "      <td>515290</td>\n",
       "      <td>2010</td>\n",
       "      <td>61322</td>\n",
       "      <td>567.0</td>\n",
       "      <td>0.001102</td>\n",
       "    </tr>\n",
       "  </tbody>\n",
       "</table>\n",
       "</div>"
      ],
      "text/plain": [
       "       username   display_name        date  followers  following  tweets  \\\n",
       "0  bennyjohnson  Benny Johnson  2022-03-29     511129       2007   61193   \n",
       "1  bennyjohnson  Benny Johnson  2022-03-30     512507       2009   61219   \n",
       "2  bennyjohnson  Benny Johnson  2022-03-31     513809       2010   61266   \n",
       "3  bennyjohnson  Benny Johnson  2022-04-01     514723       2010   61311   \n",
       "4  bennyjohnson  Benny Johnson  2022-04-02     515290       2010   61322   \n",
       "\n",
       "   change  percent_change  \n",
       "0     NaN             NaN  \n",
       "1  1378.0        0.002696  \n",
       "2  1302.0        0.002540  \n",
       "3   914.0        0.001779  \n",
       "4   567.0        0.001102  "
      ]
     },
     "execution_count": 3,
     "metadata": {},
     "output_type": "execute_result"
    }
   ],
   "source": [
    "dfcon.head()"
   ]
  },
  {
   "cell_type": "markdown",
   "id": "e964a702-3857-4987-97d7-d9fc69fee1b7",
   "metadata": {},
   "source": [
    "What's the average follower count and the min / max? (on first day of dataset)"
   ]
  },
  {
   "cell_type": "code",
   "execution_count": 10,
   "id": "616d50b3-4675-47eb-8908-fb388029a49b",
   "metadata": {},
   "outputs": [
    {
     "name": "stdout",
     "output_type": "stream",
     "text": [
      "Conservative min-max-mean\n",
      "130027\n",
      "8473852\n",
      "1356848.4\n"
     ]
    }
   ],
   "source": [
    "print(\"Conservative min-max-mean\")\n",
    "print(dfcon[dfcon.date=='2022-03-29'].followers.min())\n",
    "print(dfcon[dfcon.date=='2022-03-29'].followers.max())\n",
    "print(dfcon[dfcon.date=='2022-03-29'].followers.mean())"
   ]
  },
  {
   "cell_type": "code",
   "execution_count": 11,
   "id": "cf50b63f-6ea1-48d7-a802-ae08dbbc5617",
   "metadata": {},
   "outputs": [
    {
     "name": "stdout",
     "output_type": "stream",
     "text": [
      "Liberal min-max-mean\n",
      "100129\n",
      "131391733\n",
      "5949333.12\n"
     ]
    }
   ],
   "source": [
    "print(\"Liberal min-max-mean\")\n",
    "print(dflib[dflib.date=='2022-03-29'].followers.min())\n",
    "print(dflib[dflib.date=='2022-03-29'].followers.max())\n",
    "print(dflib[dflib.date=='2022-03-29'].followers.mean())"
   ]
  },
  {
   "cell_type": "markdown",
   "id": "a86713e7-79db-496e-9159-22f8da6ab200",
   "metadata": {},
   "source": [
    "<hr>\n",
    "What's the average number of followers gained BEFORE April 25?"
   ]
  },
  {
   "cell_type": "code",
   "execution_count": 16,
   "id": "f97f7d21-f8cd-4453-a99c-5371ab31342b",
   "metadata": {},
   "outputs": [
    {
     "name": "stdout",
     "output_type": "stream",
     "text": [
      "Conservatives:\n",
      "Mean number change: 940.7838461538462\n",
      "Mean percent change: 0.0011028233316724876\n"
     ]
    }
   ],
   "source": [
    "print(\"Conservatives:\")\n",
    "print(f\"Mean number change: {dfcon[dfcon.date<'2022-04-25'].change.mean()}\")\n",
    "print(f\"Mean percent change: {dfcon[dfcon.date<'2022-04-25'].percent_change.mean()}\")"
   ]
  },
  {
   "cell_type": "code",
   "execution_count": 17,
   "id": "a3f48c95-d527-4020-9328-040290ac261d",
   "metadata": {},
   "outputs": [
    {
     "name": "stdout",
     "output_type": "stream",
     "text": [
      "Liberals:\n",
      "Mean number change: 627.4435049961568\n",
      "Mean percent change: 0.00019439900274905648\n"
     ]
    }
   ],
   "source": [
    "print(\"Liberals:\")\n",
    "print(f\"Mean number change: {dflib[dflib.date<'2022-04-25'].change.mean()}\")\n",
    "print(f\"Mean percent change: {dflib[dflib.date<'2022-04-25'].percent_change.mean()}\")"
   ]
  },
  {
   "cell_type": "markdown",
   "id": "2051a0c5-6e99-46b0-8fe9-6ddd534b74c9",
   "metadata": {},
   "source": [
    "<hr>\n",
    "What's the average number of followers gained/lost ON or AFTER April 25?"
   ]
  },
  {
   "cell_type": "code",
   "execution_count": 20,
   "id": "58fd7eb8-0743-4a95-9361-65733583c3da",
   "metadata": {},
   "outputs": [
    {
     "name": "stdout",
     "output_type": "stream",
     "text": [
      "Conservatives:\n",
      "Mean number change: 9386.99\n",
      "Mean percent change: 0.007125093451472163\n"
     ]
    }
   ],
   "source": [
    "print(\"Conservatives:\")\n",
    "print(f\"Mean number change: {dfcon[dfcon.date>='2022-04-25'].change.mean()}\")\n",
    "print(f\"Mean percent change: {dfcon[dfcon.date>='2022-04-25'].percent_change.mean()}\")"
   ]
  },
  {
   "cell_type": "code",
   "execution_count": 21,
   "id": "51604564-3df7-4c54-9100-a0dc0c416cc7",
   "metadata": {},
   "outputs": [
    {
     "name": "stdout",
     "output_type": "stream",
     "text": [
      "Liberals:\n",
      "Mean number change: -3037.080808080808\n",
      "Mean percent change: -0.0016706818907873313\n"
     ]
    }
   ],
   "source": [
    "print(\"Liberals:\")\n",
    "print(f\"Mean number change: {dflib[dflib.date>='2022-04-25'].change.mean()}\")\n",
    "print(f\"Mean percent change: {dflib[dflib.date>='2022-04-25'].percent_change.mean()}\")"
   ]
  },
  {
   "cell_type": "markdown",
   "id": "d8b8f8f8-799e-4be1-99a1-6eec549cac77",
   "metadata": {},
   "source": [
    "<hr>\n",
    "What about if we JUST look at April 26th?"
   ]
  },
  {
   "cell_type": "code",
   "execution_count": 22,
   "id": "eb706a27-7f74-42b4-b680-e0769901979e",
   "metadata": {},
   "outputs": [
    {
     "name": "stdout",
     "output_type": "stream",
     "text": [
      "Conservatives:\n",
      "Mean number change: 17228.9\n",
      "Mean percent change: 0.013523360740013835\n"
     ]
    }
   ],
   "source": [
    "print(\"Conservatives:\")\n",
    "print(f\"Mean number change: {dfcon[dfcon.date=='2022-04-26'].change.mean()}\")\n",
    "print(f\"Mean percent change: {dfcon[dfcon.date=='2022-04-26'].percent_change.mean()}\")"
   ]
  },
  {
   "cell_type": "code",
   "execution_count": 23,
   "id": "91c8ddd1-4fe9-47d7-93a3-7db5cb9a4f92",
   "metadata": {},
   "outputs": [
    {
     "name": "stdout",
     "output_type": "stream",
     "text": [
      "Liberals:\n",
      "Mean number change: -6062.551020408163\n",
      "Mean percent change: -0.003571463252576823\n"
     ]
    }
   ],
   "source": [
    "print(\"Liberals:\")\n",
    "print(f\"Mean number change: {dflib[dflib.date=='2022-04-26'].change.mean()}\")\n",
    "print(f\"Mean percent change: {dflib[dflib.date=='2022-04-26'].percent_change.mean()}\")"
   ]
  },
  {
   "cell_type": "markdown",
   "id": "46c09a29-5ed9-4d9e-9b78-77726371458b",
   "metadata": {},
   "source": [
    "<hr>\n",
    "Who had the biggest single gain/loss?"
   ]
  },
  {
   "cell_type": "code",
   "execution_count": 26,
   "id": "442a9fab-87fa-459d-92c5-9332f9b77557",
   "metadata": {},
   "outputs": [
    {
     "data": {
      "text/html": [
       "<div>\n",
       "<style scoped>\n",
       "    .dataframe tbody tr th:only-of-type {\n",
       "        vertical-align: middle;\n",
       "    }\n",
       "\n",
       "    .dataframe tbody tr th {\n",
       "        vertical-align: top;\n",
       "    }\n",
       "\n",
       "    .dataframe thead th {\n",
       "        text-align: right;\n",
       "    }\n",
       "</style>\n",
       "<table border=\"1\" class=\"dataframe\">\n",
       "  <thead>\n",
       "    <tr style=\"text-align: right;\">\n",
       "      <th></th>\n",
       "      <th>username</th>\n",
       "      <th>display_name</th>\n",
       "      <th>date</th>\n",
       "      <th>followers</th>\n",
       "      <th>following</th>\n",
       "      <th>tweets</th>\n",
       "      <th>change</th>\n",
       "      <th>percent_change</th>\n",
       "    </tr>\n",
       "  </thead>\n",
       "  <tbody>\n",
       "    <tr>\n",
       "      <th>260</th>\n",
       "      <td>GovRonDeSantis</td>\n",
       "      <td>Ron DeSantis</td>\n",
       "      <td>2022-04-26</td>\n",
       "      <td>2007613</td>\n",
       "      <td>1</td>\n",
       "      <td>5776</td>\n",
       "      <td>141566.0</td>\n",
       "      <td>0.075864</td>\n",
       "    </tr>\n",
       "  </tbody>\n",
       "</table>\n",
       "</div>"
      ],
      "text/plain": [
       "           username  display_name        date  followers  following  tweets  \\\n",
       "260  GovRonDeSantis  Ron DeSantis  2022-04-26    2007613          1    5776   \n",
       "\n",
       "       change  percent_change  \n",
       "260  141566.0        0.075864  "
      ]
     },
     "execution_count": 26,
     "metadata": {},
     "output_type": "execute_result"
    }
   ],
   "source": [
    "# Conservatives\n",
    "dfcon[dfcon.change == dfcon.change.max()]"
   ]
  },
  {
   "cell_type": "code",
   "execution_count": 27,
   "id": "3d89a1bc-bcb4-44ec-84ab-cd873565f2ab",
   "metadata": {},
   "outputs": [
    {
     "data": {
      "text/html": [
       "<div>\n",
       "<style scoped>\n",
       "    .dataframe tbody tr th:only-of-type {\n",
       "        vertical-align: middle;\n",
       "    }\n",
       "\n",
       "    .dataframe tbody tr th {\n",
       "        vertical-align: top;\n",
       "    }\n",
       "\n",
       "    .dataframe thead th {\n",
       "        text-align: right;\n",
       "    }\n",
       "</style>\n",
       "<table border=\"1\" class=\"dataframe\">\n",
       "  <thead>\n",
       "    <tr style=\"text-align: right;\">\n",
       "      <th></th>\n",
       "      <th>username</th>\n",
       "      <th>display_name</th>\n",
       "      <th>date</th>\n",
       "      <th>followers</th>\n",
       "      <th>following</th>\n",
       "      <th>tweets</th>\n",
       "      <th>change</th>\n",
       "      <th>percent_change</th>\n",
       "    </tr>\n",
       "  </thead>\n",
       "  <tbody>\n",
       "    <tr>\n",
       "      <th>840</th>\n",
       "      <td>KamalaHarris</td>\n",
       "      <td>Kamala Harris</td>\n",
       "      <td>2022-04-26</td>\n",
       "      <td>19644479</td>\n",
       "      <td>731</td>\n",
       "      <td>16505</td>\n",
       "      <td>-22453.0</td>\n",
       "      <td>-0.001142</td>\n",
       "    </tr>\n",
       "  </tbody>\n",
       "</table>\n",
       "</div>"
      ],
      "text/plain": [
       "         username   display_name        date  followers  following  tweets  \\\n",
       "840  KamalaHarris  Kamala Harris  2022-04-26   19644479        731   16505   \n",
       "\n",
       "      change  percent_change  \n",
       "840 -22453.0       -0.001142  "
      ]
     },
     "execution_count": 27,
     "metadata": {},
     "output_type": "execute_result"
    }
   ],
   "source": [
    "# Liberals\n",
    "dflib[dflib.change == dflib.change.min()]"
   ]
  }
 ],
 "metadata": {
  "kernelspec": {
   "display_name": "Dataviz",
   "language": "python",
   "name": "dataviz"
  },
  "language_info": {
   "codemirror_mode": {
    "name": "ipython",
    "version": 3
   },
   "file_extension": ".py",
   "mimetype": "text/x-python",
   "name": "python",
   "nbconvert_exporter": "python",
   "pygments_lexer": "ipython3",
   "version": "3.9.7"
  }
 },
 "nbformat": 4,
 "nbformat_minor": 5
}
